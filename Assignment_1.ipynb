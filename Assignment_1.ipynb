{
  "nbformat": 4,
  "nbformat_minor": 0,
  "metadata": {
    "colab": {
      "provenance": []
    },
    "kernelspec": {
      "name": "python3",
      "display_name": "Python 3"
    },
    "language_info": {
      "name": "python"
    }
  },
  "cells": [
    {
      "cell_type": "markdown",
      "source": [
        "#1. In the below elements which of them are values or an expression? eg:- values can be integer or string and expressions will be mathematical operators.\n",
        "\n",
        "*\n",
        "'hello'\n",
        "-87.8\n",
        "-\n",
        "/\n",
        "+\n",
        "6"
      ],
      "metadata": {
        "id": "1skxqz9fKwf4"
      }
    },
    {
      "cell_type": "markdown",
      "source": [
        "value: 'Hello', -87.8, 6\n",
        "\n",
        "Expression: *, -, /,+"
      ],
      "metadata": {
        "id": "JXMuRWYWLMyB"
      }
    },
    {
      "cell_type": "markdown",
      "source": [
        "#2. What is the difference between string and variable?"
      ],
      "metadata": {
        "id": "G1tpXXwCLsd8"
      }
    },
    {
      "cell_type": "markdown",
      "source": [
        "Variable is a named storage location in a computer's memory that stores a value or reference to a value.\n",
        "\n",
        "String is a sequence of characters enclosed in quotation marks, such as \"suren\" or \"123\"\n",
        "\n",
        "The main difference between a string and a variable is that a string is a specific type of data, while a variable is a storage location that can hold different types of data, including strings."
      ],
      "metadata": {
        "id": "Bz-AQSVPLxDV"
      }
    },
    {
      "cell_type": "markdown",
      "source": [
        "#3. Describe three different data types."
      ],
      "metadata": {
        "id": "tlHf1y1DNHmf"
      }
    },
    {
      "cell_type": "markdown",
      "source": [
        "1. Integer: An integer is a data type that represents whole numbers. Integers can be positive, negative, or zero. \n",
        "2. Floating-point number: A floating-point number, or float, is a data type that represents numbers with decimal points.\n",
        "3.Boolean: A boolean is a data type that represents logical values, which are either true or false. Booleans are often used in programming to control the flow of execution based on certain conditions."
      ],
      "metadata": {
        "id": "NK5gocMONMNJ"
      }
    },
    {
      "cell_type": "markdown",
      "source": [
        "#4. What is an expression made up of? What do all expressions do?"
      ],
      "metadata": {
        "id": "DU6bhNZNMPQl"
      }
    },
    {
      "cell_type": "markdown",
      "source": [
        "An expression is a combination of values, variables, operators, and/or function calls that are evaluated to produce a result. In programming, expressions can be used to perform calculations, manipulate data, or control program flow.\n",
        "\n",
        "All expressions in programming have a value and a data type. The value is the result of evaluating the expression, and the data type is the type of the value."
      ],
      "metadata": {
        "id": "WQLasLwpOAHT"
      }
    },
    {
      "cell_type": "markdown",
      "source": [
        "#5. What is the difference between an expression and a statement?"
      ],
      "metadata": {
        "id": "1xOsG0zZO7LK"
      }
    },
    {
      "cell_type": "markdown",
      "source": [
        "Expressions are combinations of values and operators that can be evaluated to produce a value, while statements are units of code that perform actions or control the flow of execution.\n",
        "\n",
        "An assignment statement, like \"spam = 10\", is an example of a statement that assigns the value '10' to the variable 'spam'."
      ],
      "metadata": {
        "id": "7JTcNEQqPRAh"
      }
    },
    {
      "cell_type": "markdown",
      "source": [
        "#6. After running the following code, what does the variable bacon contain?"
      ],
      "metadata": {
        "id": "RA6A7j0IP1_C"
      }
    },
    {
      "cell_type": "code",
      "source": [
        "bacon= 22\n",
        "bacon+1\n",
        "\n",
        "bacon"
      ],
      "metadata": {
        "colab": {
          "base_uri": "https://localhost:8080/"
        },
        "id": "VPkk6tvNP-bi",
        "outputId": "15afe01d-2269-474a-f6de-3b7952154f37"
      },
      "execution_count": 2,
      "outputs": [
        {
          "output_type": "execute_result",
          "data": {
            "text/plain": [
              "22"
            ]
          },
          "metadata": {},
          "execution_count": 2
        }
      ]
    },
    {
      "cell_type": "markdown",
      "source": [
        "The Varaible bacon contains '22'"
      ],
      "metadata": {
        "id": "p4-TE1GAQNIz"
      }
    },
    {
      "cell_type": "markdown",
      "source": [
        "#7. What should the values of the following two terms be?"
      ],
      "metadata": {
        "id": "kD8ON1txP8ML"
      }
    },
    {
      "cell_type": "code",
      "source": [
        "\"spam\"+\"spamspam\""
      ],
      "metadata": {
        "colab": {
          "base_uri": "https://localhost:8080/",
          "height": 36
        },
        "id": "d6s8rsXaQccw",
        "outputId": "7be7677d-aa79-437f-feb9-9cb7710f3cf2"
      },
      "execution_count": 3,
      "outputs": [
        {
          "output_type": "execute_result",
          "data": {
            "text/plain": [
              "'spamspamspam'"
            ],
            "application/vnd.google.colaboratory.intrinsic+json": {
              "type": "string"
            }
          },
          "metadata": {},
          "execution_count": 3
        }
      ]
    },
    {
      "cell_type": "code",
      "source": [
        "\"spam\"*3"
      ],
      "metadata": {
        "colab": {
          "base_uri": "https://localhost:8080/",
          "height": 36
        },
        "id": "cx5_hekwQkJw",
        "outputId": "3a497ff0-861c-4f97-897f-6834d479443e"
      },
      "execution_count": 4,
      "outputs": [
        {
          "output_type": "execute_result",
          "data": {
            "text/plain": [
              "'spamspamspam'"
            ],
            "application/vnd.google.colaboratory.intrinsic+json": {
              "type": "string"
            }
          },
          "metadata": {},
          "execution_count": 4
        }
      ]
    },
    {
      "cell_type": "markdown",
      "source": [
        "answer: 'spamspamspam'"
      ],
      "metadata": {
        "id": "vYNolblrQZ70"
      }
    },
    {
      "cell_type": "markdown",
      "source": [
        "#8. Why is eggs a valid variable name while 100 is invalid?"
      ],
      "metadata": {
        "id": "zzz7Mf1KQwdc"
      }
    },
    {
      "cell_type": "markdown",
      "source": [
        "In most programming languages, including Python, variable names must follow certain rules. Specifically, variable names can only contain letters, numbers, and underscores, and they cannot start with a number.\n",
        "\n",
        "In general, variable names should be descriptive and easy to understand, while also following the rules for valid variable names in the programming language being used. Some other rules for variable names in Python specifically include:\n",
        "\n",
        "1. Variable names should be lowercase (by convention)\n",
        "2. Variable names should not be the same as reserved keywords in Python, such as if, else, and while\n",
        "3. Variable names should be descriptive and indicate the purpose or content of the variable."
      ],
      "metadata": {
        "id": "hSvqZaSVRLoT"
      }
    },
    {
      "cell_type": "markdown",
      "source": [
        "eggs is a valid variable name because it only contains letters, which are allowed in variable names. On the other hand, 100 is not a valid variable name because it starts with a number, which is not allowed in variable names."
      ],
      "metadata": {
        "id": "UGrIhn65ReEy"
      }
    },
    {
      "cell_type": "markdown",
      "source": [
        "#9. What three functions can be used to get the integer, floating-point number, or string version of a value?"
      ],
      "metadata": {
        "id": "dDxlrXeqRrOU"
      }
    },
    {
      "cell_type": "code",
      "source": [
        "in()\n",
        "float()\n",
        "str()"
      ],
      "metadata": {
        "id": "ypGSkI8uR87i"
      },
      "execution_count": null,
      "outputs": []
    },
    {
      "cell_type": "markdown",
      "source": [
        "#10. Why does this expression cause an error? How can you fix it?"
      ],
      "metadata": {
        "id": "QM5ZUuieSGNf"
      }
    },
    {
      "cell_type": "markdown",
      "source": [
        "can only concatenate str (not \"int\") to str"
      ],
      "metadata": {
        "id": "RBmKKQwKSWri"
      }
    },
    {
      "cell_type": "code",
      "execution_count": 5,
      "metadata": {
        "colab": {
          "base_uri": "https://localhost:8080/",
          "height": 166
        },
        "id": "Cd9f0FevKcAp",
        "outputId": "f93369b5-fd58-46b2-f578-355be7a105b8"
      },
      "outputs": [
        {
          "output_type": "error",
          "ename": "TypeError",
          "evalue": "ignored",
          "traceback": [
            "\u001b[0;31m---------------------------------------------------------------------------\u001b[0m",
            "\u001b[0;31mTypeError\u001b[0m                                 Traceback (most recent call last)",
            "\u001b[0;32m<ipython-input-5-8cd3b659d16f>\u001b[0m in \u001b[0;36m<cell line: 1>\u001b[0;34m()\u001b[0m\n\u001b[0;32m----> 1\u001b[0;31m \u001b[0;34m\"I have eaten\"\u001b[0m \u001b[0;34m+\u001b[0m \u001b[0;36m99\u001b[0m \u001b[0;34m+\u001b[0m \u001b[0;34m\"burritos\"\u001b[0m\u001b[0;34m\u001b[0m\u001b[0;34m\u001b[0m\u001b[0m\n\u001b[0m",
            "\u001b[0;31mTypeError\u001b[0m: can only concatenate str (not \"int\") to str"
          ]
        }
      ],
      "source": [
        "\"I have eaten\" + 99 + \"burritos\""
      ]
    },
    {
      "cell_type": "code",
      "source": [
        "\"I have eaten\"+\" 99 \"+\"burritos\"\n",
        "\"I have eaten \"+str(99)+\" burritos\""
      ],
      "metadata": {
        "colab": {
          "base_uri": "https://localhost:8080/",
          "height": 36
        },
        "id": "8dMzolj4Sbti",
        "outputId": "77d044c9-15eb-462c-e3d6-a6de90d124cb"
      },
      "execution_count": 11,
      "outputs": [
        {
          "output_type": "execute_result",
          "data": {
            "text/plain": [
              "'I have eaten 99 burritos'"
            ],
            "application/vnd.google.colaboratory.intrinsic+json": {
              "type": "string"
            }
          },
          "metadata": {},
          "execution_count": 11
        }
      ]
    }
  ]
}