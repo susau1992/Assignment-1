{
  "nbformat": 4,
  "nbformat_minor": 0,
  "metadata": {
    "colab": {
      "provenance": []
    },
    "kernelspec": {
      "name": "python3",
      "display_name": "Python 3"
    },
    "language_info": {
      "name": "python"
    }
  },
  "cells": [
    {
      "cell_type": "code",
      "execution_count": null,
      "metadata": {
        "id": "yIY-zGYqZdqE"
      },
      "outputs": [],
      "source": []
    },
    {
      "cell_type": "markdown",
      "source": [
        "#1.What are the two values of the Boolean data type? How do you write them?"
      ],
      "metadata": {
        "id": "LtctVcdxRyFY"
      }
    },
    {
      "cell_type": "markdown",
      "source": [
        "The two values of the Boolean data type are:\n",
        "\n",
        "1. True - represents a condition that is true or valid\n",
        "2. False - represents a condition that is false or invalid."
      ],
      "metadata": {
        "id": "asUrnd6_RufH"
      }
    },
    {
      "cell_type": "markdown",
      "source": [
        "#2. What are the three different types of Boolean operators?"
      ],
      "metadata": {
        "id": "fkrBt5-HSG7k"
      }
    },
    {
      "cell_type": "markdown",
      "source": [
        "1. AND\n",
        "2. OR\n",
        "3. NOT"
      ],
      "metadata": {
        "id": "B-guQo4USLI6"
      }
    },
    {
      "cell_type": "markdown",
      "source": [
        "#3. Make a list of each Boolean operator's truth tables (i.e. every possible combination of Boolean values for the operator and what it evaluate )."
      ],
      "metadata": {
        "id": "IjrMtCglSZPN"
      }
    },
    {
      "cell_type": "markdown",
      "source": [
        "1. AND\n",
        "\n",
        "|1|2|Result|\n",
        "|---|---|---|\n",
        "|True|True|True|\n",
        "|True|False|False\n",
        "|False|True|False\n",
        "|False|False|False\n",
        "\n",
        "2. OR\n",
        "\n",
        "|1|2|Result|\n",
        "|---|---|---|\n",
        "|True|True|True|\n",
        "|True|False|True\n",
        "|False|True|True\n",
        "|False|False|False\n",
        "\n",
        "3. NOT\n",
        "\n",
        "|1|Result|\n",
        "|---|---|\n",
        "|True|False|\n",
        "|False|True|\n"
      ],
      "metadata": {
        "id": "A4txWSAVUcQh"
      }
    },
    {
      "cell_type": "markdown",
      "source": [
        "#4. What are the values of the following expressions?\n",
        "1. (5 &gt; 4) and (3 == 5)\n",
        "2. not (5 &gt; 4)\n",
        "3. (5 &gt; 4) or (3 == 5)\n",
        "4. not ((5 &gt; 4) or (3 == 5))\n",
        "5. (True and True) and (True == False)\n",
        "6. (not False) or (not True)"
      ],
      "metadata": {
        "id": "LRDE97HXVW4F"
      }
    },
    {
      "cell_type": "code",
      "source": [
        "(5>4) and (3==5)"
      ],
      "metadata": {
        "colab": {
          "base_uri": "https://localhost:8080/"
        },
        "id": "Msd0HOBfVo1k",
        "outputId": "19185958-2e33-43a1-bf34-977956afe8b2"
      },
      "execution_count": 1,
      "outputs": [
        {
          "output_type": "execute_result",
          "data": {
            "text/plain": [
              "False"
            ]
          },
          "metadata": {},
          "execution_count": 1
        }
      ]
    },
    {
      "cell_type": "code",
      "source": [
        "not(5>4)"
      ],
      "metadata": {
        "colab": {
          "base_uri": "https://localhost:8080/"
        },
        "id": "FgGcIj-qV1XY",
        "outputId": "781189e2-2040-4a21-be97-68821abb39e9"
      },
      "execution_count": 2,
      "outputs": [
        {
          "output_type": "execute_result",
          "data": {
            "text/plain": [
              "False"
            ]
          },
          "metadata": {},
          "execution_count": 2
        }
      ]
    },
    {
      "cell_type": "code",
      "source": [
        "(5>4) or (3==5)"
      ],
      "metadata": {
        "colab": {
          "base_uri": "https://localhost:8080/"
        },
        "id": "xT4ZaVLbV4m1",
        "outputId": "d2c1074f-7d5c-4625-d5e9-fdf7eb8d0e56"
      },
      "execution_count": 3,
      "outputs": [
        {
          "output_type": "execute_result",
          "data": {
            "text/plain": [
              "True"
            ]
          },
          "metadata": {},
          "execution_count": 3
        }
      ]
    },
    {
      "cell_type": "code",
      "source": [
        "not((5>4) or (3==5))"
      ],
      "metadata": {
        "colab": {
          "base_uri": "https://localhost:8080/"
        },
        "id": "IQG-7onCV9p6",
        "outputId": "e43363d2-b018-40cb-be97-2b255dc0f8d3"
      },
      "execution_count": 4,
      "outputs": [
        {
          "output_type": "execute_result",
          "data": {
            "text/plain": [
              "False"
            ]
          },
          "metadata": {},
          "execution_count": 4
        }
      ]
    },
    {
      "cell_type": "code",
      "source": [
        "(True and True) and (True == False)"
      ],
      "metadata": {
        "colab": {
          "base_uri": "https://localhost:8080/"
        },
        "id": "xosHHfNhWEDr",
        "outputId": "2fe230c2-7fa5-412d-a88b-1971508feea0"
      },
      "execution_count": 5,
      "outputs": [
        {
          "output_type": "execute_result",
          "data": {
            "text/plain": [
              "False"
            ]
          },
          "metadata": {},
          "execution_count": 5
        }
      ]
    },
    {
      "cell_type": "code",
      "source": [
        "(not False) or (not True)"
      ],
      "metadata": {
        "colab": {
          "base_uri": "https://localhost:8080/"
        },
        "id": "hEuWRifHWLTB",
        "outputId": "bc4c0362-b6dd-4d1a-8f46-845c98ffd501"
      },
      "execution_count": 6,
      "outputs": [
        {
          "output_type": "execute_result",
          "data": {
            "text/plain": [
              "True"
            ]
          },
          "metadata": {},
          "execution_count": 6
        }
      ]
    },
    {
      "cell_type": "markdown",
      "source": [
        "#5. What are the six comparison operators?"
      ],
      "metadata": {
        "id": "XD-yDXCYWVMN"
      }
    },
    {
      "cell_type": "markdown",
      "source": [
        "1. Equal to (==)\n",
        "2. Not equal to (!=)\n",
        "3. Greater than (>)\n",
        "4. Less than (<)\n",
        "5. Greater than or equal to (>=)\n",
        "6. Less than or equal to (<=)"
      ],
      "metadata": {
        "id": "SlSYRymFWXHY"
      }
    },
    {
      "cell_type": "markdown",
      "source": [
        "#6. How do you tell the difference between the equal to and assignment operators?Describe a condition and when you would use one."
      ],
      "metadata": {
        "id": "L7O9ilnnWmLM"
      }
    },
    {
      "cell_type": "markdown",
      "source": [
        "* The equal to operator (==) is used to compare two values and check if they are equal\n",
        "* The assignment operator (=) is used to assign a value to a variable."
      ],
      "metadata": {
        "id": "4rird6tAWtjO"
      }
    },
    {
      "cell_type": "code",
      "source": [
        "x=5\n",
        "if x==5:\n",
        "  print(f\"x is equal to {x}\")"
      ],
      "metadata": {
        "colab": {
          "base_uri": "https://localhost:8080/"
        },
        "id": "Xw-esJKrXB6W",
        "outputId": "5d8e2070-d5dd-4980-d795-cc4795473af0"
      },
      "execution_count": 9,
      "outputs": [
        {
          "output_type": "stream",
          "name": "stdout",
          "text": [
            "x is equal to 5\n"
          ]
        }
      ]
    },
    {
      "cell_type": "markdown",
      "source": [
        "#7. Identify the three blocks in this code:"
      ],
      "metadata": {
        "id": "34frMgQ_Xc3s"
      }
    },
    {
      "cell_type": "code",
      "source": [
        "spam = 0  # block 1\n",
        "\n",
        "if spam == 10:  # block 2\n",
        "    print('eggs')\n",
        "if spam > 5:  # block 3\n",
        "    print('bacon')\n",
        "else:\n",
        "    print('ham')\n",
        "print('spam')\n",
        "print('spam')"
      ],
      "metadata": {
        "colab": {
          "base_uri": "https://localhost:8080/"
        },
        "id": "WKMAuzIcXigY",
        "outputId": "edb6f1c3-c8d7-4ffa-b205-6aa388877deb"
      },
      "execution_count": 11,
      "outputs": [
        {
          "output_type": "stream",
          "name": "stdout",
          "text": [
            "ham\n",
            "spam\n",
            "spam\n"
          ]
        }
      ]
    },
    {
      "cell_type": "markdown",
      "source": [
        "#8. Write code that prints Hello if 1 is stored in spam, prints Howdy if 2 is stored in spam, and prints Greetings! if anything else is stored in spam."
      ],
      "metadata": {
        "id": "LWkMQERuZafI"
      }
    },
    {
      "cell_type": "code",
      "source": [
        "spam= int(input())\n",
        "\n",
        "if spam== 1:\n",
        "  print(\"Hello\")\n",
        "else:\n",
        "  if spam== 2:\n",
        "    print(\"Howdy\")\n",
        "  else:\n",
        "    print(\"Greetings!\")"
      ],
      "metadata": {
        "colab": {
          "base_uri": "https://localhost:8080/"
        },
        "id": "W-jrJuiTZobF",
        "outputId": "09cf4dfa-671f-487d-e204-3f1108a206d1"
      },
      "execution_count": 18,
      "outputs": [
        {
          "output_type": "stream",
          "name": "stdout",
          "text": [
            "3\n",
            "Greetings!\n"
          ]
        }
      ]
    },
    {
      "cell_type": "markdown",
      "source": [
        "#9.If your programme is stuck in an endless loop, what keys you’ll press?"
      ],
      "metadata": {
        "id": "Bn1Vi5dgakx2"
      }
    },
    {
      "cell_type": "markdown",
      "source": [
        "* interrupt the kernel by selecting \"Runtime\" from the menu bar and then clicking on \"Interrupt Execution\" or by using the keyboard shortcut Ctrl + M I\n",
        "\n",
        "* selecting \"Runtime\" from the menu bar and then clicking on \"Restart Runtime\" or by using the keyboard shortcut Ctrl + M ."
      ],
      "metadata": {
        "id": "jKUmgi-HaqcK"
      }
    },
    {
      "cell_type": "markdown",
      "source": [
        "#10. How can you tell the difference between break and continue?"
      ],
      "metadata": {
        "id": "IXRP5iu3bVjh"
      }
    },
    {
      "cell_type": "markdown",
      "source": [
        "The main difference between 'break' and 'continue' is that 'break' is used to exit a loop entirely, while 'continue' is used to skip a specific iteration of a loop and move on to the next iteration."
      ],
      "metadata": {
        "id": "6jy38eEWba8j"
      }
    },
    {
      "cell_type": "code",
      "source": [
        "# Using break to exit a loop\n",
        "for i in range(15):\n",
        "    if i == 7:\n",
        "        break\n",
        "    print(i)"
      ],
      "metadata": {
        "colab": {
          "base_uri": "https://localhost:8080/"
        },
        "id": "QB0pYXIXcGL6",
        "outputId": "15b624f3-fe84-4a24-ce11-665e7cede0e2"
      },
      "execution_count": 20,
      "outputs": [
        {
          "output_type": "stream",
          "name": "stdout",
          "text": [
            "0\n",
            "1\n",
            "2\n",
            "3\n",
            "4\n",
            "5\n",
            "6\n"
          ]
        }
      ]
    },
    {
      "cell_type": "code",
      "source": [
        "# Using continue to skip a loop\n",
        "for i in range(15):\n",
        "    if i == 7:\n",
        "        continue\n",
        "    print(i)"
      ],
      "metadata": {
        "colab": {
          "base_uri": "https://localhost:8080/"
        },
        "id": "0SEXajCRcMBD",
        "outputId": "2812e12f-3086-4fb1-b747-fabbd8e06d62"
      },
      "execution_count": 25,
      "outputs": [
        {
          "output_type": "stream",
          "name": "stdout",
          "text": [
            "0\n",
            "1\n",
            "2\n",
            "3\n",
            "4\n",
            "5\n",
            "6\n",
            "8\n",
            "9\n",
            "10\n",
            "11\n",
            "12\n",
            "13\n",
            "14\n"
          ]
        }
      ]
    },
    {
      "cell_type": "markdown",
      "source": [
        "#11. In a for loop, what is the difference between range(10), range(0, 10), and range(0, 10, 1)?"
      ],
      "metadata": {
        "id": "I75HnOtEcx36"
      }
    },
    {
      "cell_type": "markdown",
      "source": [
        "when using range() in a for loop, there is no difference between range(10), range(0, 10), and range(0, 10, 1) in terms of the output of the loop, but there are some differences in the way that the range() function works with these different arguments."
      ],
      "metadata": {
        "id": "9eki7Btyc0hQ"
      }
    },
    {
      "cell_type": "code",
      "source": [
        "for i in range(10):\n",
        "  print(i)"
      ],
      "metadata": {
        "colab": {
          "base_uri": "https://localhost:8080/"
        },
        "id": "tny_PWW8dauL",
        "outputId": "0addb24a-9a90-4a75-9588-8ad39b01c271"
      },
      "execution_count": 27,
      "outputs": [
        {
          "output_type": "stream",
          "name": "stdout",
          "text": [
            "0\n",
            "1\n",
            "2\n",
            "3\n",
            "4\n",
            "5\n",
            "6\n",
            "7\n",
            "8\n",
            "9\n"
          ]
        }
      ]
    },
    {
      "cell_type": "code",
      "source": [
        "for i in range(0,10):\n",
        "  print(i)"
      ],
      "metadata": {
        "colab": {
          "base_uri": "https://localhost:8080/"
        },
        "id": "5qMgoifIdm0c",
        "outputId": "cd54c7e8-2ac9-4700-a293-94b633014d6d"
      },
      "execution_count": 28,
      "outputs": [
        {
          "output_type": "stream",
          "name": "stdout",
          "text": [
            "0\n",
            "1\n",
            "2\n",
            "3\n",
            "4\n",
            "5\n",
            "6\n",
            "7\n",
            "8\n",
            "9\n"
          ]
        }
      ]
    },
    {
      "cell_type": "code",
      "source": [
        "for i in range(0,10,1):\n",
        "  print(i)"
      ],
      "metadata": {
        "colab": {
          "base_uri": "https://localhost:8080/"
        },
        "id": "E3KELqpmdr6E",
        "outputId": "2c07797a-95cf-48f4-a278-a8c0cf43c9fb"
      },
      "execution_count": 29,
      "outputs": [
        {
          "output_type": "stream",
          "name": "stdout",
          "text": [
            "0\n",
            "1\n",
            "2\n",
            "3\n",
            "4\n",
            "5\n",
            "6\n",
            "7\n",
            "8\n",
            "9\n"
          ]
        }
      ]
    },
    {
      "cell_type": "code",
      "source": [
        "for i in range(1,10,2):\n",
        "  if i==0:\n",
        "    continue\n",
        "  print(i**2)"
      ],
      "metadata": {
        "colab": {
          "base_uri": "https://localhost:8080/"
        },
        "id": "7D8dD0vQdvFV",
        "outputId": "88967e29-859c-4651-af6f-fdfb841d62af"
      },
      "execution_count": 38,
      "outputs": [
        {
          "output_type": "stream",
          "name": "stdout",
          "text": [
            "1\n",
            "9\n",
            "25\n",
            "49\n",
            "81\n"
          ]
        }
      ]
    },
    {
      "cell_type": "markdown",
      "source": [
        "#12. Write a short program that prints the numbers 1 to 10 using a for loop. Then write an equivalent program that prints the numbers 1 to 10 using a while loop."
      ],
      "metadata": {
        "id": "IjJ_EK64ejBC"
      }
    },
    {
      "cell_type": "code",
      "source": [
        "for i in range(1,11):\n",
        "  print(i)"
      ],
      "metadata": {
        "colab": {
          "base_uri": "https://localhost:8080/"
        },
        "id": "0I5Dt2aBelMh",
        "outputId": "103e376a-c615-45ba-ec6f-5a770b4adb84"
      },
      "execution_count": 39,
      "outputs": [
        {
          "output_type": "stream",
          "name": "stdout",
          "text": [
            "1\n",
            "2\n",
            "3\n",
            "4\n",
            "5\n",
            "6\n",
            "7\n",
            "8\n",
            "9\n",
            "10\n"
          ]
        }
      ]
    },
    {
      "cell_type": "code",
      "source": [
        "i=1\n",
        "while i <= 10:\n",
        "  print(i)\n",
        "  i=i+1"
      ],
      "metadata": {
        "colab": {
          "base_uri": "https://localhost:8080/"
        },
        "id": "mc7g-rXoetoM",
        "outputId": "9a02e453-d5d6-416f-d402-1690e500e4c3"
      },
      "execution_count": 41,
      "outputs": [
        {
          "output_type": "stream",
          "name": "stdout",
          "text": [
            "1\n",
            "2\n",
            "3\n",
            "4\n",
            "5\n",
            "6\n",
            "7\n",
            "8\n",
            "9\n",
            "10\n"
          ]
        }
      ]
    },
    {
      "cell_type": "markdown",
      "source": [
        "#13. If you had a function named bacon() inside a module named spam, how would you call it after importing spam?"
      ],
      "metadata": {
        "id": "sEqzXbKDfd_5"
      }
    },
    {
      "cell_type": "markdown",
      "source": [
        "# Import the module\n",
        "import spam\n",
        "\n",
        "# Call the function\n",
        "spam.bacon()"
      ],
      "metadata": {
        "id": "SrA2VAByfhOt"
      }
    },
    {
      "cell_type": "code",
      "source": [
        "# Import the module\n",
        "import spam\n",
        "\n",
        "# Call the function\n",
        "spam.bacon()"
      ],
      "metadata": {
        "id": "W1p4sS7ngazS"
      },
      "execution_count": null,
      "outputs": []
    }
  ]
}